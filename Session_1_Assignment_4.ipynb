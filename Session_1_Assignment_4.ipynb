{
 "cells": [
  {
   "cell_type": "code",
   "execution_count": 8,
   "metadata": {},
   "outputs": [
    {
     "name": "stdout",
     "output_type": "stream",
     "text": [
      "Volume of the sphere with radius 6.0 is 904.7779199999999 cubic cms.\n"
     ]
    }
   ],
   "source": [
    "# Python Session 1 Assignment 4\n",
    "# Python program to find the volume of a sphere with diameter 12 cm.\n",
    "# Formula: V=4/3 * π * r^3\n",
    "\n",
    "diameter = 12 \n",
    "radius = 12/2\n",
    "\n",
    "volume = (4/3) * 3.14159 * (radius)*(radius)*(radius)\n",
    "\n",
    "print(\"Volume of the sphere with radius {} is {} cubic cms.\".format(radius, volume))"
   ]
  },
  {
   "cell_type": "code",
   "execution_count": null,
   "metadata": {},
   "outputs": [],
   "source": []
  }
 ],
 "metadata": {
  "kernelspec": {
   "display_name": "Python 3",
   "language": "python",
   "name": "python3"
  },
  "language_info": {
   "codemirror_mode": {
    "name": "ipython",
    "version": 3
   },
   "file_extension": ".py",
   "mimetype": "text/x-python",
   "name": "python",
   "nbconvert_exporter": "python",
   "pygments_lexer": "ipython3",
   "version": "3.6.4"
  }
 },
 "nbformat": 4,
 "nbformat_minor": 2
}
